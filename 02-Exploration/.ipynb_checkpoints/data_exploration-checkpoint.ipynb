{
 "cells": [
  {
   "cell_type": "code",
   "execution_count": 3,
   "id": "direct-disorder",
   "metadata": {},
   "outputs": [],
   "source": [
    "import numpy as np\n",
    "import pandas as pd\n",
    "\n",
    "import matplotlib.pyplot as plt\n",
    "plt.style.use('ggplot')"
   ]
  },
  {
   "cell_type": "code",
   "execution_count": 4,
   "id": "grand-groove",
   "metadata": {},
   "outputs": [],
   "source": [
    "data = pd.read_csv('data/01_heights_weights_genders.csv')"
   ]
  },
  {
   "cell_type": "code",
   "execution_count": 12,
   "id": "danish-exclusion",
   "metadata": {},
   "outputs": [],
   "source": [
    "nums = np.arange(1,11)"
   ]
  },
  {
   "cell_type": "code",
   "execution_count": 6,
   "id": "static-music",
   "metadata": {},
   "outputs": [
    {
     "data": {
      "text/plain": [
       "8.25"
      ]
     },
     "execution_count": 6,
     "metadata": {},
     "output_type": "execute_result"
    }
   ],
   "source": [
    "np.var(nums)"
   ]
  },
  {
   "cell_type": "code",
   "execution_count": 7,
   "id": "finite-poison",
   "metadata": {},
   "outputs": [
    {
     "data": {
      "text/plain": [
       "5.5"
      ]
     },
     "execution_count": 7,
     "metadata": {},
     "output_type": "execute_result"
    }
   ],
   "source": [
    "np.mean(nums)"
   ]
  },
  {
   "cell_type": "code",
   "execution_count": 30,
   "id": "legendary-reverse",
   "metadata": {},
   "outputs": [],
   "source": [
    "def var(nums, pop=True):\n",
    "    mean = sum(nums)/len(nums)\n",
    "    if pop:\n",
    "        return sum((nums - mean)**2) / (len(nums) - 1)\n",
    "    return sum((nums - mean)**2) / len(nums)"
   ]
  },
  {
   "cell_type": "code",
   "execution_count": 31,
   "id": "fluid-negative",
   "metadata": {},
   "outputs": [
    {
     "data": {
      "text/plain": [
       "8.25"
      ]
     },
     "execution_count": 31,
     "metadata": {},
     "output_type": "execute_result"
    }
   ],
   "source": [
    "var(nums, pop=False)"
   ]
  },
  {
   "cell_type": "code",
   "execution_count": 34,
   "id": "improving-fiction",
   "metadata": {},
   "outputs": [],
   "source": [
    "def std(var):\n",
    "    return var**.5"
   ]
  },
  {
   "cell_type": "code",
   "execution_count": 36,
   "id": "forced-safety",
   "metadata": {},
   "outputs": [
    {
     "data": {
      "text/plain": [
       "3.0276503540974917"
      ]
     },
     "execution_count": 36,
     "metadata": {},
     "output_type": "execute_result"
    }
   ],
   "source": [
    "std(var(nums, pop=True))"
   ]
  },
  {
   "cell_type": "code",
   "execution_count": 9,
   "id": "lesbian-optics",
   "metadata": {},
   "outputs": [
    {
     "data": {
      "text/plain": [
       "<AxesSubplot:>"
      ]
     },
     "execution_count": 9,
     "metadata": {},
     "output_type": "execute_result"
    },
    {
     "data": {
      "image/png": "[encoded data removed]",
      "text/plain": [
       "<Figure size 432x288 with 1 Axes>"
      ]
     },
     "metadata": {},
     "output_type": "display_data"
    }
   ],
   "source": [
    "data['Height'].hist()"
   ]
  },
  {
   "cell_type": "code",
   "execution_count": null,
   "id": "roman-privacy",
   "metadata": {},
   "outputs": [],
   "source": []
  }
 ],
 "metadata": {
  "kernelspec": {
   "display_name": "Python 3",
   "language": "python",
   "name": "python3"
  },
  "language_info": {
   "codemirror_mode": {
    "name": "ipython",
    "version": 3
   },
   "file_extension": ".py",
   "mimetype": "text/x-python",
   "name": "python",
   "nbconvert_exporter": "python",
   "pygments_lexer": "ipython3",
   "version": "3.7.9"
  }
 },
 "nbformat": 4,
 "nbformat_minor": 5
}
